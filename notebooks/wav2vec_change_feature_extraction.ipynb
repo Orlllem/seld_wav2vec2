{
 "cells": [
  {
   "cell_type": "code",
   "execution_count": null,
   "id": "f9c558fa",
   "metadata": {
    "ExecuteTime": {
     "end_time": "2023-05-17T23:45:04.220467Z",
     "start_time": "2023-05-17T23:45:04.217327Z"
    }
   },
   "outputs": [],
   "source": [
    "# !pip install autopep8"
   ]
  },
  {
   "cell_type": "code",
   "execution_count": null,
   "id": "28e63ae4",
   "metadata": {
    "ExecuteTime": {
     "end_time": "2023-05-17T23:45:04.342519Z",
     "start_time": "2023-05-17T23:45:04.222954Z"
    },
    "id": "28e63ae4"
   },
   "outputs": [],
   "source": [
    "# !wget https://dl.fbaipublicfiles.com/fairseq/wav2vec/wav2vec_small.pt"
   ]
  },
  {
   "cell_type": "code",
   "execution_count": null,
   "id": "61719fca",
   "metadata": {
    "ExecuteTime": {
     "end_time": "2023-05-17T23:45:04.421337Z",
     "start_time": "2023-05-17T23:45:04.348268Z"
    },
    "id": "61719fca"
   },
   "outputs": [],
   "source": [
    "# !wget https://dl.fbaipublicfiles.com/fairseq/wav2vec/wav2vec_vox_new.pt\n",
    "# !wget https://dl.fbaipublicfiles.com/fairseq/wav2vec/libri960_big.pt"
   ]
  },
  {
   "cell_type": "code",
   "execution_count": null,
   "id": "a72cd52b",
   "metadata": {
    "ExecuteTime": {
     "end_time": "2023-05-17T23:45:04.726209Z",
     "start_time": "2023-05-17T23:45:04.424947Z"
    },
    "colab": {
     "base_uri": "https://localhost:8080/"
    },
    "id": "a72cd52b",
    "outputId": "e6c83f94-69c4-4917-b069-19bd87498d85"
   },
   "outputs": [],
   "source": [
    "%ls /home/seld_wav2vec2/src/seld_wav2vec2"
   ]
  },
  {
   "cell_type": "code",
   "execution_count": null,
   "id": "c09c270a",
   "metadata": {
    "ExecuteTime": {
     "end_time": "2023-05-17T23:45:04.976024Z",
     "start_time": "2023-05-17T23:45:04.730375Z"
    }
   },
   "outputs": [],
   "source": [
    "%ls"
   ]
  },
  {
   "cell_type": "code",
   "execution_count": null,
   "id": "0f7af9a3",
   "metadata": {
    "ExecuteTime": {
     "end_time": "2023-05-17T23:45:16.261798Z",
     "start_time": "2023-05-17T23:45:04.980751Z"
    },
    "colab": {
     "base_uri": "https://localhost:8080/"
    },
    "id": "0f7af9a3",
    "outputId": "8ff11dd2-5571-4195-db34-60077e6cd94f"
   },
   "outputs": [],
   "source": [
    "import torch\n",
    "import fairseq\n",
    "from pathlib import Path\n",
    "from argparse import Namespace\n",
    "from collections import namedtuple\n",
    "\n",
    "user_dir = \"/home/seld_wav2vec2/src/seld_wav2vec2\"\n",
    "Arg = namedtuple(\"Arg\", [\"user_dir\"])\n",
    "arg = Arg(user_dir.__str__())\n",
    "fairseq.utils.import_user_module(arg)\n",
    "\n",
    "cp = \"wav2vec_small.pt\"\n",
    "# cp = \"wav2vec_vox_new.pt\"\n",
    "# cp = \"libri960_big.pt\"\n",
    "\n",
    "model, cfg, task = fairseq.checkpoint_utils.load_model_ensemble_and_task([cp], strict=True)\n",
    "model = model[0]\n",
    "model.eval()"
   ]
  },
  {
   "cell_type": "code",
   "execution_count": null,
   "id": "e2ed70f9",
   "metadata": {
    "ExecuteTime": {
     "end_time": "2023-05-17T23:45:16.270808Z",
     "start_time": "2023-05-17T23:45:16.263739Z"
    },
    "colab": {
     "base_uri": "https://localhost:8080/"
    },
    "id": "e2ed70f9",
    "outputId": "8fa09f10-6e4f-4a64-c78a-6311e9c044c5"
   },
   "outputs": [],
   "source": [
    "# cfg\n",
    "\n",
    "cfg.model"
   ]
  },
  {
   "cell_type": "code",
   "execution_count": null,
   "id": "6916dead",
   "metadata": {
    "ExecuteTime": {
     "end_time": "2023-05-17T23:45:16.346072Z",
     "start_time": "2023-05-17T23:45:16.272515Z"
    }
   },
   "outputs": [],
   "source": [
    "w2v_state = model.state_dict()"
   ]
  },
  {
   "cell_type": "code",
   "execution_count": null,
   "id": "d035b096",
   "metadata": {
    "ExecuteTime": {
     "end_time": "2023-05-17T23:45:16.412071Z",
     "start_time": "2023-05-17T23:45:16.349333Z"
    },
    "scrolled": true
   },
   "outputs": [],
   "source": [
    "print(w2v_state.keys())"
   ]
  },
  {
   "cell_type": "code",
   "execution_count": null,
   "id": "f8c58ebf",
   "metadata": {
    "ExecuteTime": {
     "end_time": "2023-05-17T23:45:16.484261Z",
     "start_time": "2023-05-17T23:45:16.415451Z"
    },
    "scrolled": true
   },
   "outputs": [],
   "source": [
    "w2v_state['feature_extractor.conv_layers.1.0.weight']"
   ]
  },
  {
   "cell_type": "code",
   "execution_count": null,
   "id": "f32562c7",
   "metadata": {
    "ExecuteTime": {
     "end_time": "2023-05-17T23:45:16.721423Z",
     "start_time": "2023-05-17T23:45:16.488402Z"
    },
    "colab": {
     "base_uri": "https://localhost:8080/"
    },
    "id": "f32562c7",
    "outputId": "5e631436-aceb-48cc-c66b-94f51f903104"
   },
   "outputs": [],
   "source": [
    "from omegaconf.dictconfig import DictConfig\n",
    "import copy\n",
    "\n",
    "print(type(cfg.model))\n",
    "\n",
    "content = dict(cfg.model)\n",
    "print(content)\n",
    "\n",
    "res = DictConfig(content = {**content, **{'in_channels': 4, 'in_conv_groups': 1}})\n",
    "             \n",
    "res._name = 'wav2vec2_ch'\n",
    "\n",
    "res"
   ]
  },
  {
   "cell_type": "code",
   "execution_count": null,
   "id": "7cdff8d4",
   "metadata": {
    "ExecuteTime": {
     "end_time": "2023-05-17T23:45:17.889930Z",
     "start_time": "2023-05-17T23:45:16.729670Z"
    },
    "id": "7cdff8d4"
   },
   "outputs": [],
   "source": [
    "# model_spec = task.build_model(res, from_checkpoint=False)\n",
    "\n",
    "model_spec = task.build_model(res, from_checkpoint=True)"
   ]
  },
  {
   "cell_type": "code",
   "execution_count": null,
   "id": "5bff6ac9",
   "metadata": {
    "ExecuteTime": {
     "end_time": "2023-05-17T23:45:17.903085Z",
     "start_time": "2023-05-17T23:45:17.892878Z"
    },
    "colab": {
     "base_uri": "https://localhost:8080/"
    },
    "id": "5bff6ac9",
    "outputId": "cc5cd92f-a119-4aa6-a085-053250d52fa8"
   },
   "outputs": [],
   "source": [
    "model_spec"
   ]
  },
  {
   "cell_type": "code",
   "execution_count": null,
   "id": "4294723a",
   "metadata": {
    "ExecuteTime": {
     "end_time": "2023-05-17T23:45:19.363728Z",
     "start_time": "2023-05-17T23:45:17.905922Z"
    },
    "id": "4294723a"
   },
   "outputs": [],
   "source": [
    "del model\n",
    "\n",
    "state = fairseq.checkpoint_utils.load_checkpoint_to_cpu(cp)"
   ]
  },
  {
   "cell_type": "code",
   "execution_count": null,
   "id": "535506a2",
   "metadata": {
    "ExecuteTime": {
     "end_time": "2023-05-17T23:45:19.423790Z",
     "start_time": "2023-05-17T23:45:19.366596Z"
    },
    "colab": {
     "base_uri": "https://localhost:8080/"
    },
    "id": "535506a2",
    "outputId": "784cbdb8-a305-4407-cff6-fb45f038df37"
   },
   "outputs": [],
   "source": [
    "state_dict = model_spec.state_dict()\n",
    "state_model = state[\"model\"].copy()\n",
    "for key in state[\"model\"]:\n",
    "    if key in state_dict.keys():\n",
    "        if state[\"model\"][key].shape != state_dict[key].shape:\n",
    "            print(\"key {} is not matching\".format(key))\n",
    "            state_model.pop(key)\n",
    "\n",
    "model_spec.load_state_dict(state_model, strict=False) "
   ]
  },
  {
   "cell_type": "code",
   "execution_count": null,
   "id": "b14cdfe1",
   "metadata": {
    "ExecuteTime": {
     "end_time": "2023-05-17T23:45:19.443911Z",
     "start_time": "2023-05-17T23:45:19.426122Z"
    },
    "colab": {
     "base_uri": "https://localhost:8080/"
    },
    "id": "b14cdfe1",
    "outputId": "552e7daa-d0df-431e-da41-c272f1d61600"
   },
   "outputs": [],
   "source": [
    "print(model_spec.cfg)\n",
    "\n",
    "print(type(model_spec.cfg))"
   ]
  },
  {
   "cell_type": "markdown",
   "id": "a6374112",
   "metadata": {
    "id": "a6374112"
   },
   "source": [
    "# save model"
   ]
  },
  {
   "cell_type": "code",
   "execution_count": null,
   "id": "e7b8b5cf",
   "metadata": {
    "ExecuteTime": {
     "end_time": "2023-05-17T23:45:19.503852Z",
     "start_time": "2023-05-17T23:45:19.445985Z"
    },
    "colab": {
     "base_uri": "https://localhost:8080/"
    },
    "id": "e7b8b5cf",
    "outputId": "9ca3e630-c81f-4095-ee3b-f360f8e50786"
   },
   "outputs": [],
   "source": [
    "print(state.keys())\n",
    "\n",
    "# print(state['model'].keys())\n",
    "\n",
    "state['args'].arch = 'wav2vec2_ch'\n",
    "\n",
    "print(state['args'].arch)\n",
    "\n",
    "print(state['args'])\n",
    "\n",
    "print(state['cfg'].keys())"
   ]
  },
  {
   "cell_type": "code",
   "execution_count": null,
   "id": "aac8fae7",
   "metadata": {
    "ExecuteTime": {
     "end_time": "2023-05-17T23:45:19.562103Z",
     "start_time": "2023-05-17T23:45:19.507504Z"
    },
    "colab": {
     "base_uri": "https://localhost:8080/"
    },
    "id": "aac8fae7",
    "outputId": "85946d41-05ac-4cf9-d37e-aee932ab7657"
   },
   "outputs": [],
   "source": [
    "print(state['cfg'])"
   ]
  },
  {
   "cell_type": "code",
   "execution_count": null,
   "id": "95a24056",
   "metadata": {
    "ExecuteTime": {
     "end_time": "2023-05-17T23:45:19.638711Z",
     "start_time": "2023-05-17T23:45:19.565965Z"
    },
    "colab": {
     "base_uri": "https://localhost:8080/"
    },
    "id": "95a24056",
    "outputId": "e3a7e2ed-2146-48f2-f4e9-de7cf4fc4d2c"
   },
   "outputs": [],
   "source": [
    "# state['cfg']['task'].normalize = True \n",
    "\n",
    "print(state['cfg']['task'])"
   ]
  },
  {
   "cell_type": "code",
   "execution_count": null,
   "id": "9c70fb5d",
   "metadata": {
    "ExecuteTime": {
     "end_time": "2023-05-17T23:45:19.705548Z",
     "start_time": "2023-05-17T23:45:19.642166Z"
    },
    "id": "9c70fb5d"
   },
   "outputs": [],
   "source": [
    "state['model'] = model_spec.state_dict()"
   ]
  },
  {
   "cell_type": "code",
   "execution_count": null,
   "id": "d9ceed77",
   "metadata": {
    "ExecuteTime": {
     "end_time": "2023-05-17T23:45:19.768932Z",
     "start_time": "2023-05-17T23:45:19.708908Z"
    },
    "id": "d9ceed77"
   },
   "outputs": [],
   "source": [
    "state['cfg']['model'] = res"
   ]
  },
  {
   "cell_type": "code",
   "execution_count": null,
   "id": "24a787b9",
   "metadata": {
    "ExecuteTime": {
     "end_time": "2023-05-17T23:45:19.828645Z",
     "start_time": "2023-05-17T23:45:19.772548Z"
    },
    "colab": {
     "base_uri": "https://localhost:8080/"
    },
    "id": "24a787b9",
    "outputId": "76ab60e4-b22d-4b51-eb0f-2b8e9c89f497"
   },
   "outputs": [],
   "source": [
    "print(state['cfg']['model'])"
   ]
  },
  {
   "cell_type": "code",
   "execution_count": null,
   "id": "66defe2b",
   "metadata": {
    "ExecuteTime": {
     "end_time": "2023-05-17T23:45:20.361151Z",
     "start_time": "2023-05-17T23:45:19.832322Z"
    },
    "colab": {
     "base_uri": "https://localhost:8080/"
    },
    "id": "66defe2b",
    "outputId": "94c5d2e5-5c59-432d-dc3c-b0c13f3192e2",
    "scrolled": true
   },
   "outputs": [],
   "source": [
    "state"
   ]
  },
  {
   "cell_type": "code",
   "execution_count": null,
   "id": "53b7213c",
   "metadata": {
    "ExecuteTime": {
     "end_time": "2023-05-17T23:45:21.766300Z",
     "start_time": "2023-05-17T23:45:20.362801Z"
    },
    "id": "53b7213c"
   },
   "outputs": [],
   "source": [
    "cp_save = \"w2v_audio_base_4ch_unorm.pt\"\n",
    "# cp_save = \"w2v_audio_base_4ch_unorm_mask.pt\"\n",
    "# cp_save = \"w2v_audio_large_4ch_norm.pt\"\n",
    "# cp_save = \"w2v_audio_large_4ch_unorm.pt\"\n",
    "\n",
    "!rm -rf {cp_save}\n",
    "\n",
    "torch.save(state, cp_save)"
   ]
  },
  {
   "cell_type": "code",
   "execution_count": null,
   "id": "tD9K9q0DGPER",
   "metadata": {
    "ExecuteTime": {
     "end_time": "2023-05-17T23:45:21.899877Z",
     "start_time": "2023-05-17T23:45:21.770169Z"
    },
    "colab": {
     "base_uri": "https://localhost:8080/"
    },
    "id": "tD9K9q0DGPER",
    "outputId": "f52381e1-bddb-4bd6-dbe0-aa3e996e0326"
   },
   "outputs": [],
   "source": [
    "del model_spec, state, state_model\n",
    "\n",
    "import gc\n",
    "\n",
    "gc.collect()"
   ]
  },
  {
   "cell_type": "markdown",
   "id": "ucOUdZtvGLwD",
   "metadata": {
    "id": "ucOUdZtvGLwD"
   },
   "source": [
    "# Load "
   ]
  },
  {
   "cell_type": "code",
   "execution_count": null,
   "id": "gm7_FnVgLtU-",
   "metadata": {
    "ExecuteTime": {
     "end_time": "2023-05-17T23:45:21.968362Z",
     "start_time": "2023-05-17T23:45:21.901405Z"
    },
    "id": "gm7_FnVgLtU-"
   },
   "outputs": [],
   "source": [
    "# import torch\n",
    "# import fairseq\n",
    "# from pathlib import Path\n",
    "# from argparse import Namespace\n",
    "# from collections import namedtuple\n",
    "\n",
    "# user_dir = Path(\"/content/sound_events_w2v_d2v/src/sound_events_w2v_d2v/model\")\n",
    "# Arg = namedtuple(\"Arg\", [\"user_dir\"])\n",
    "# arg = Arg(user_dir.__str__())\n",
    "# fairseq.utils.import_user_module(arg)"
   ]
  },
  {
   "cell_type": "code",
   "execution_count": null,
   "id": "8c5448f0",
   "metadata": {
    "ExecuteTime": {
     "end_time": "2023-05-17T23:45:23.617640Z",
     "start_time": "2023-05-17T23:45:21.972170Z"
    },
    "id": "8c5448f0"
   },
   "outputs": [],
   "source": [
    "# cp_save = \"w2v_audio_large_4ch_norm.pt\"\n",
    "\n",
    "state_new = fairseq.checkpoint_utils.load_checkpoint_to_cpu(cp_save)"
   ]
  },
  {
   "cell_type": "code",
   "execution_count": null,
   "id": "16ab7dcf",
   "metadata": {
    "ExecuteTime": {
     "end_time": "2023-05-17T23:45:23.623700Z",
     "start_time": "2023-05-17T23:45:23.619457Z"
    },
    "colab": {
     "base_uri": "https://localhost:8080/"
    },
    "id": "16ab7dcf",
    "outputId": "0ddfaaaf-c0d1-4685-fb7f-2ebb56b868bb"
   },
   "outputs": [],
   "source": [
    "print(state_new.keys())\n",
    "\n",
    "print(state_new['model'].keys())"
   ]
  },
  {
   "cell_type": "code",
   "execution_count": null,
   "id": "94c3c550",
   "metadata": {
    "ExecuteTime": {
     "end_time": "2023-05-17T23:45:23.702381Z",
     "start_time": "2023-05-17T23:45:23.625035Z"
    },
    "colab": {
     "base_uri": "https://localhost:8080/"
    },
    "id": "94c3c550",
    "outputId": "f292c377-db00-4955-aba2-03496e28dede"
   },
   "outputs": [],
   "source": [
    "print(state_new['cfg'].keys())\n",
    "\n",
    "print(state_new['cfg']['model'])"
   ]
  },
  {
   "cell_type": "code",
   "execution_count": null,
   "id": "-2qlDmJnMI56",
   "metadata": {
    "ExecuteTime": {
     "end_time": "2023-05-17T23:45:23.937947Z",
     "start_time": "2023-05-17T23:45:23.704841Z"
    },
    "colab": {
     "base_uri": "https://localhost:8080/"
    },
    "id": "-2qlDmJnMI56",
    "outputId": "acf07602-ae91-4f33-96e7-3f5694e9457c"
   },
   "outputs": [],
   "source": [
    "del state_new\n",
    "\n",
    "gc.collect()"
   ]
  },
  {
   "cell_type": "code",
   "execution_count": null,
   "id": "8abfbf00",
   "metadata": {
    "ExecuteTime": {
     "end_time": "2023-05-17T23:45:27.823714Z",
     "start_time": "2023-05-17T23:45:23.941254Z"
    },
    "colab": {
     "base_uri": "https://localhost:8080/"
    },
    "id": "8abfbf00",
    "outputId": "639a122c-b8cf-4ee5-b14c-c1045be75476"
   },
   "outputs": [],
   "source": [
    "model, cfg, task = fairseq.checkpoint_utils.load_model_ensemble_and_task([cp_save], strict=True)\n",
    "model = model[0]\n",
    "model.eval()"
   ]
  },
  {
   "cell_type": "code",
   "execution_count": null,
   "id": "cea51764",
   "metadata": {
    "ExecuteTime": {
     "end_time": "2023-05-17T23:45:27.829088Z",
     "start_time": "2023-05-17T23:45:27.825032Z"
    },
    "colab": {
     "base_uri": "https://localhost:8080/"
    },
    "id": "cea51764",
    "outputId": "017934b4-07df-49cf-85fa-1f16d938c8fb"
   },
   "outputs": [],
   "source": [
    "model"
   ]
  },
  {
   "cell_type": "code",
   "execution_count": null,
   "id": "1155689a",
   "metadata": {
    "ExecuteTime": {
     "end_time": "2023-05-17T23:45:27.911477Z",
     "start_time": "2023-05-17T23:45:27.830228Z"
    }
   },
   "outputs": [],
   "source": [
    "saved_4ch_w2v_state = model.state_dict()"
   ]
  },
  {
   "cell_type": "code",
   "execution_count": null,
   "id": "11a900c2",
   "metadata": {
    "ExecuteTime": {
     "end_time": "2023-05-17T23:45:27.977405Z",
     "start_time": "2023-05-17T23:45:27.914688Z"
    }
   },
   "outputs": [],
   "source": [
    "\n",
    "assert torch.equal(w2v_state['feature_extractor.conv_layers.1.0.weight'], saved_4ch_w2v_state['feature_extractor.conv_layers.1.0.weight'])\n",
    "assert torch.equal(w2v_state['feature_extractor.conv_layers.2.0.weight'], saved_4ch_w2v_state['feature_extractor.conv_layers.2.0.weight'])\n",
    "assert torch.equal(w2v_state['feature_extractor.conv_layers.3.0.weight'], saved_4ch_w2v_state['feature_extractor.conv_layers.3.0.weight'])\n"
   ]
  },
  {
   "cell_type": "code",
   "execution_count": null,
   "id": "9a9722f7",
   "metadata": {
    "ExecuteTime": {
     "end_time": "2023-05-17T23:45:28.084299Z",
     "start_time": "2023-05-17T23:45:27.981786Z"
    }
   },
   "outputs": [],
   "source": [
    "for key in w2v_state.keys():\n",
    "    if not torch.equal(w2v_state[key], saved_4ch_w2v_state[key]):\n",
    "        print(\"key\", key)"
   ]
  },
  {
   "cell_type": "code",
   "execution_count": null,
   "id": "ff83b6dc",
   "metadata": {
    "ExecuteTime": {
     "end_time": "2023-05-17T23:45:28.466799Z",
     "start_time": "2023-05-17T23:45:28.086123Z"
    }
   },
   "outputs": [],
   "source": [
    "assert torch.equal(w2v_state['feature_extractor.conv_layers.0.0.weight'], saved_4ch_w2v_state['feature_extractor.conv_layers.0.0.weight'])\n",
    "# should raise a error"
   ]
  },
  {
   "cell_type": "code",
   "execution_count": null,
   "id": "8f58ace3",
   "metadata": {},
   "outputs": [],
   "source": []
  }
 ],
 "metadata": {
  "colab": {
   "collapsed_sections": [],
   "provenance": []
  },
  "kernelspec": {
   "display_name": "seld_w2v",
   "language": "python",
   "name": "seld_w2v"
  },
  "language_info": {
   "codemirror_mode": {
    "name": "ipython",
    "version": 3
   },
   "file_extension": ".py",
   "mimetype": "text/x-python",
   "name": "python",
   "nbconvert_exporter": "python",
   "pygments_lexer": "ipython3",
   "version": "3.8.16"
  }
 },
 "nbformat": 4,
 "nbformat_minor": 5
}
