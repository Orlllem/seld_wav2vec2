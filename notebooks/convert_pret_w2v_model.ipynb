{
 "cells": [
  {
   "cell_type": "markdown",
   "id": "e8f56d8f",
   "metadata": {},
   "source": [
    "# Convert pret model to model_4ch"
   ]
  },
  {
   "cell_type": "code",
   "execution_count": null,
   "id": "aa8d2c4f",
   "metadata": {
    "ExecuteTime": {
     "end_time": "2023-12-07T22:30:43.914088Z",
     "start_time": "2023-12-07T22:30:41.694668Z"
    }
   },
   "outputs": [],
   "source": [
    "%ls /home/models/w2v/w2v_pret_chunks64000_ts_4s_newds_4M_v1/"
   ]
  },
  {
   "cell_type": "code",
   "execution_count": null,
   "id": "d7a86bfd",
   "metadata": {
    "ExecuteTime": {
     "end_time": "2023-12-07T22:30:44.523435Z",
     "start_time": "2023-12-07T22:30:44.518190Z"
    }
   },
   "outputs": [],
   "source": [
    "# BASE\n",
    "cp_path = '/home/models/w2v/w2v_pret_chunks64000_ts_4s_newds_4M_v1/checkpoint_165_400000_fixed.pt'\n",
    "cp_save = '/home/models/w2v/w2v_pret_chunks64000_ts_4s_newds_4M_v1/ckpt_165_400000_l3das21.pt'\n",
    "\n",
    "# LARGE\n",
    "# cp_path = '/home/models/w2v/w2v_pret_chunks64000_ts_4s_newds2_600K_large_norm_v1/checkpoint_148_600000_fixed.pt'\n",
    "# cp_save = '/home/models/w2v/w2v_pret_chunks64000_ts_4s_newds2_600K_large_norm_v1/ckpt_148_600000_l3das22.pt'"
   ]
  },
  {
   "cell_type": "code",
   "execution_count": null,
   "id": "6829ab5d",
   "metadata": {
    "ExecuteTime": {
     "end_time": "2023-12-07T22:31:58.918683Z",
     "start_time": "2023-12-07T22:30:46.548939Z"
    }
   },
   "outputs": [],
   "source": [
    "import torch\n",
    "import fairseq\n",
    "from argparse import ArgumentParser\n",
    "from collections import namedtuple\n",
    "\n",
    "user_dir = \"/home/seld_wav2vec2/src/seld_wav2vec2\"\n",
    "\n",
    "Arg = namedtuple(\"Arg\", [\"user_dir\"])\n",
    "arg = Arg(user_dir.__str__())\n",
    "fairseq.utils.import_user_module(arg)\n",
    "\n",
    "model_pret, cfg, task = fairseq.checkpoint_utils.load_model_ensemble_and_task([cp_path], strict=False)\n",
    "model = model_pret[0]\n",
    "model.eval()\n",
    "\n",
    "# model_pret = model_pret.cuda()"
   ]
  },
  {
   "cell_type": "code",
   "execution_count": null,
   "id": "fd864772",
   "metadata": {
    "ExecuteTime": {
     "end_time": "2023-12-06T04:57:08.620847Z",
     "start_time": "2023-12-06T04:57:08.585439Z"
    }
   },
   "outputs": [],
   "source": [
    "cfg"
   ]
  },
  {
   "cell_type": "code",
   "execution_count": null,
   "id": "2e711f3f",
   "metadata": {
    "ExecuteTime": {
     "end_time": "2023-12-06T04:57:12.931598Z",
     "start_time": "2023-12-06T04:57:08.622307Z"
    }
   },
   "outputs": [],
   "source": [
    "cfg.model"
   ]
  },
  {
   "cell_type": "code",
   "execution_count": null,
   "id": "e59d38d3",
   "metadata": {
    "ExecuteTime": {
     "end_time": "2023-12-06T04:57:21.702624Z",
     "start_time": "2023-12-06T04:57:12.935767Z"
    }
   },
   "outputs": [],
   "source": [
    "from omegaconf.dictconfig import DictConfig\n",
    "\n",
    "w2v_state = model.state_dict()\n",
    "content = dict(cfg.model)\n",
    "\n",
    "print(content)\n",
    "\n",
    "content[\"_name\"] = 'wav2vec2_ch'\n",
    "\n",
    "res = DictConfig(content)\n",
    "\n",
    "print(res)"
   ]
  },
  {
   "cell_type": "code",
   "execution_count": null,
   "id": "acbe161f",
   "metadata": {
    "ExecuteTime": {
     "end_time": "2023-12-06T04:57:29.229203Z",
     "start_time": "2023-12-06T04:57:21.704462Z"
    }
   },
   "outputs": [],
   "source": [
    "model_4ch = task.build_model(res, from_checkpoint=True)\n",
    "\n",
    "state = fairseq.checkpoint_utils.load_checkpoint_to_cpu(cp_path)"
   ]
  },
  {
   "cell_type": "code",
   "execution_count": null,
   "id": "e3e619a1",
   "metadata": {
    "ExecuteTime": {
     "end_time": "2023-12-06T04:57:29.999402Z",
     "start_time": "2023-12-06T04:57:29.231113Z"
    }
   },
   "outputs": [],
   "source": [
    "print(state.keys())\n",
    "\n",
    "print(state['args'])\n",
    "\n",
    "print(state['cfg'])"
   ]
  },
  {
   "cell_type": "code",
   "execution_count": null,
   "id": "e4e5abca",
   "metadata": {
    "ExecuteTime": {
     "end_time": "2023-12-06T04:57:33.612469Z",
     "start_time": "2023-12-06T04:57:30.003473Z"
    }
   },
   "outputs": [],
   "source": [
    "state_dict = model_4ch.state_dict()\n",
    "state_model = state[\"model\"].copy()\n",
    "for key in state[\"model\"]:\n",
    "    if key in state_dict.keys():\n",
    "        if state[\"model\"][key].shape != state_dict[key].shape:\n",
    "            print(\"key {} is not matching\".format(key))\n",
    "            state_model.pop(key)\n",
    "\n",
    "model_4ch.load_state_dict(state_model, strict=False)\n",
    "\n",
    "print(state['args'])\n",
    "\n",
    "# state['args'] = {\"arch\": 'wav2vec2_ch'}\n",
    "state['model'] = model_4ch.state_dict()\n",
    "state['cfg']['model'] = res\n",
    "\n",
    "\n",
    "!rm {cp_save}\n",
    "\n",
    "torch.save(state, cp_save)"
   ]
  },
  {
   "cell_type": "code",
   "execution_count": null,
   "id": "c718b890",
   "metadata": {
    "ExecuteTime": {
     "end_time": "2023-12-07T22:15:23.313930Z",
     "start_time": "2023-12-07T22:10:32.930536Z"
    }
   },
   "outputs": [],
   "source": [
    "import torch\n",
    "import fairseq\n",
    "from argparse import ArgumentParser\n",
    "from collections import namedtuple\n",
    "\n",
    "user_dir = \"/home/seld_wav2vec2/src/seld_wav2vec2\"\n",
    "\n",
    "Arg = namedtuple(\"Arg\", [\"user_dir\"])\n",
    "arg = Arg(user_dir.__str__())\n",
    "fairseq.utils.import_user_module(arg)\n",
    "\n",
    "model_u, cfg, task = fairseq.checkpoint_utils.load_model_ensemble_and_task([cp_save], strict=True)\n",
    "model_u = model_u[0]\n",
    "model_u.eval()\n",
    "\n",
    "# saved_4ch_w2v_state = model_u.state_dict()\n",
    "\n",
    "# for key in w2v_state.keys():\n",
    "#     if not torch.equal(w2v_state[key], saved_4ch_w2v_state[key]):\n",
    "#         print(\"key\", key)"
   ]
  },
  {
   "cell_type": "code",
   "execution_count": null,
   "id": "1c230b82",
   "metadata": {
    "ExecuteTime": {
     "end_time": "2023-12-07T22:15:24.025989Z",
     "start_time": "2023-12-07T22:15:23.315708Z"
    }
   },
   "outputs": [],
   "source": [
    "state_saved = fairseq.checkpoint_utils.load_checkpoint_to_cpu(cp_save)\n",
    "\n",
    "print(state_saved.keys())"
   ]
  },
  {
   "cell_type": "code",
   "execution_count": null,
   "id": "e596516f",
   "metadata": {},
   "outputs": [],
   "source": []
  }
 ],
 "metadata": {
  "kernelspec": {
   "display_name": "Python [conda env:seld_w2v_thr]",
   "language": "python",
   "name": "conda-env-seld_w2v_thr-py"
  },
  "language_info": {
   "codemirror_mode": {
    "name": "ipython",
    "version": 3
   },
   "file_extension": ".py",
   "mimetype": "text/x-python",
   "name": "python",
   "nbconvert_exporter": "python",
   "pygments_lexer": "ipython3",
   "version": "3.8.18"
  }
 },
 "nbformat": 4,
 "nbformat_minor": 5
}
